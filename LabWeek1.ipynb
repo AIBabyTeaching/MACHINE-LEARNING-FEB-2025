{
 "cells": [
  {
   "cell_type": "code",
   "execution_count": 1,
   "metadata": {},
   "outputs": [],
   "source": [
    "import pandas\n",
    "import numpy as np"
   ]
  },
  {
   "cell_type": "markdown",
   "metadata": {},
   "source": [
    "# Machine Learning - IN221 - February 2025\n",
    "## Eng. Ahmed Métwalli\n",
    "## Week 1 - Introduction to Machine Learning"
   ]
  },
  {
   "cell_type": "markdown",
   "metadata": {},
   "source": [
    "<img src = 'Images/datasc-660x434.png'>"
   ]
  },
  {
   "cell_type": "markdown",
   "metadata": {},
   "source": [
    "## Essential Machine Learning & Data Science Packages\n",
    "\n",
    "### - Data Manipulation & Processing:\n",
    "  - **Pandas** → Essential library for **data manipulation, handling DataFrames, and preprocessing**.\n",
    "  - **NumPy** → Core numerical computing library for **arrays, matrices, and mathematical operations**.\n",
    "  - **Scipy** → Provides tools for **scientific computing, signal processing, and numerical optimization**.\n",
    "\n",
    "### - Data Visualization:\n",
    "  - **Matplotlib** → Low-level visualization library for **plotting charts, histograms, and scatter plots**.\n",
    "  - **Seaborn** → Built on Matplotlib, provides **statistical data visualization with elegant themes**.\n",
    "  - **Plotly** → Interactive visualization library, ideal for **3D plots, dashboards, and dynamic graphs**.\n",
    "\n",
    "### - Machine Learning:\n",
    "  - **Scikit-learn** → Comprehensive library for **classification, regression, clustering, and model evaluation**.\n",
    "  - **XGBoost** → Optimized gradient boosting framework for **high-performance machine learning**.\n",
    "  - **LightGBM** → Fast and efficient boosting algorithm for **structured data modeling**.\n",
    "\n",
    "### - Hyperparameter Tuning & Model Optimization:\n",
    "  - **Scikit-Optimize** → Lightweight optimization framework for **parameter tuning and search space exploration**.\n",
    "\n",
    "### - Time Series Analysis:\n",
    "  - **Statsmodels** → Statistical modeling library for **time series forecasting and regression models**.\n"
   ]
  },
  {
   "cell_type": "markdown",
   "metadata": {},
   "source": [
    "    Python Version 3.11\n",
    "\n",
    "\n",
    "    Packages Required:\n",
    "\n",
    "    pandas==2.1.4\n",
    "    numpy==1.26.2\n",
    "    scipy==1.11.4\n",
    "    matplotlib==3.8.2\n",
    "    seaborn==0.13.0\n",
    "    plotly==5.23.0\n",
    "    scikit-learn==1.6.0\n",
    "    xgboost==2.0.3\n",
    "    lightgbm==4.2.0\n",
    "    scikit-optimize==0.10.2\n",
    "    statsmodels==0.14.2"
   ]
  },
  {
   "cell_type": "markdown",
   "metadata": {},
   "source": [
    "## [View Section: Introduction to ML: Overview](SecWeek1.pdf)"
   ]
  }
 ],
 "metadata": {
  "kernelspec": {
   "display_name": "mitocluster",
   "language": "python",
   "name": "python3"
  },
  "language_info": {
   "codemirror_mode": {
    "name": "ipython",
    "version": 3
   },
   "file_extension": ".py",
   "mimetype": "text/x-python",
   "name": "python",
   "nbconvert_exporter": "python",
   "pygments_lexer": "ipython3",
   "version": "3.11.5"
  }
 },
 "nbformat": 4,
 "nbformat_minor": 2
}
