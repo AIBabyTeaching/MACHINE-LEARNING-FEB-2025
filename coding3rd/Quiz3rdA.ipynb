{
 "cells": [
  {
   "cell_type": "markdown",
   "metadata": {},
   "source": [
    "# Quiz 3rd A"
   ]
  },
  {
   "cell_type": "markdown",
   "metadata": {},
   "source": [
    "- Name:\n",
    "- Reg:\n"
   ]
  },
  {
   "cell_type": "markdown",
   "metadata": {},
   "source": [
    "## Instructions:\n",
    "\n",
    "##### Import required packages: Pandas, Numpy, Matplotlib, Seaborn\n",
    "##### Import the covid 19 data existing in this folder\n",
    "##### Start the cycle by understanding the data then prepare it.\n",
    "##### Document your findings well.\n",
    "##### Perofrm a Visualization of Pair Grid and document the insights."
   ]
  },
  {
   "cell_type": "code",
   "execution_count": null,
   "metadata": {
    "vscode": {
     "languageId": "plaintext"
    }
   },
   "outputs": [],
   "source": []
  }
 ],
 "metadata": {
  "language_info": {
   "name": "python"
  }
 },
 "nbformat": 4,
 "nbformat_minor": 2
}
