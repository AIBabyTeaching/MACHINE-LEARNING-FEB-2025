{
 "cells": [
  {
   "cell_type": "code",
   "execution_count": 1,
   "metadata": {},
   "outputs": [],
   "source": [
    "import pandas\n",
    "import numpy as np"
   ]
  },
  {
   "cell_type": "markdown",
   "metadata": {},
   "source": [
    "# Machine Learning - IN221 - February 2025\n",
    "## Eng. Ahmed Métwalli\n",
    "## Week 2 - Hands-on Coding"
   ]
  },
  {
   "cell_type": "markdown",
   "metadata": {},
   "source": [
    "<img src = 'Images/datasc-660x434.png'>"
   ]
  },
  {
   "cell_type": "markdown",
   "metadata": {},
   "source": [
    "## [View Section: Linear Regression Guidelines](SecWeek2.pdf)"
   ]
  },
  {
   "cell_type": "markdown",
   "metadata": {},
   "source": [
    "# Getting started with Data Scient Lifecycle coding"
   ]
  },
  {
   "cell_type": "markdown",
   "metadata": {},
   "source": [
    "## Importing Packages"
   ]
  },
  {
   "cell_type": "code",
   "execution_count": 5,
   "metadata": {},
   "outputs": [],
   "source": [
    "# Pandas > Data manipulation\n",
    "# Import Numpy (Numerical operations)\n",
    "# Matplotlib for visualization\n",
    "import pandas as pd,\\\n",
    "        numpy as np,\\\n",
    "        matplotlib.pyplot as plt"
   ]
  },
  {
   "cell_type": "markdown",
   "metadata": {},
   "source": [
    "## Importing Covid-19 Dataset"
   ]
  },
  {
   "cell_type": "code",
   "execution_count": 8,
   "metadata": {},
   "outputs": [],
   "source": [
    "# Filename\n",
    "file_name = \"Public Datasets/covid_19_clean_complete.csv.zip\" # The file of the dataset"
   ]
  },
  {
   "cell_type": "code",
   "execution_count": 9,
   "metadata": {},
   "outputs": [],
   "source": [
    "df = pd.read_csv(file_name, compression='zip') # The dataframe to be imported"
   ]
  },
  {
   "cell_type": "markdown",
   "metadata": {},
   "source": [
    "## Data & Business Understanding"
   ]
  },
  {
   "cell_type": "markdown",
   "metadata": {},
   "source": [
    "### Objective: Our aim is to predict the amount of death in the next days or weeks."
   ]
  },
  {
   "cell_type": "code",
   "execution_count": 12,
   "metadata": {},
   "outputs": [
    {
     "name": "stdout",
     "output_type": "stream",
     "text": [
      "<class 'pandas.core.frame.DataFrame'>\n",
      "RangeIndex: 49068 entries, 0 to 49067\n",
      "Data columns (total 10 columns):\n",
      " #   Column          Non-Null Count  Dtype  \n",
      "---  ------          --------------  -----  \n",
      " 0   Province/State  14664 non-null  object \n",
      " 1   Country/Region  49068 non-null  object \n",
      " 2   Lat             49068 non-null  float64\n",
      " 3   Long            49068 non-null  float64\n",
      " 4   Date            49068 non-null  object \n",
      " 5   Confirmed       49068 non-null  int64  \n",
      " 6   Deaths          49068 non-null  int64  \n",
      " 7   Recovered       49068 non-null  int64  \n",
      " 8   Active          49068 non-null  int64  \n",
      " 9   WHO Region      49068 non-null  object \n",
      "dtypes: float64(2), int64(4), object(4)\n",
      "memory usage: 3.7+ MB\n"
     ]
    }
   ],
   "source": [
    "df.info() # To view information about each attribute"
   ]
  },
  {
   "cell_type": "code",
   "execution_count": 24,
   "metadata": {},
   "outputs": [
    {
     "data": {
      "text/plain": [
       "34404"
      ]
     },
     "execution_count": 24,
     "metadata": {},
     "output_type": "execute_result"
    }
   ],
   "source": [
    "df['Province/State'].isna().sum()"
   ]
  },
  {
   "cell_type": "code",
   "execution_count": 29,
   "metadata": {},
   "outputs": [],
   "source": [
    "df.drop('Province/State', axis=1, inplace=True)"
   ]
  },
  {
   "cell_type": "code",
   "execution_count": 31,
   "metadata": {},
   "outputs": [
    {
     "data": {
      "application/vnd.microsoft.datawrangler.viewer.v0+json": {
       "columns": [
        {
         "name": "index",
         "rawType": "object",
         "type": "string"
        },
        {
         "name": "Lat",
         "rawType": "float64",
         "type": "float"
        },
        {
         "name": "Long",
         "rawType": "float64",
         "type": "float"
        },
        {
         "name": "Confirmed",
         "rawType": "float64",
         "type": "float"
        },
        {
         "name": "Deaths",
         "rawType": "float64",
         "type": "float"
        },
        {
         "name": "Recovered",
         "rawType": "float64",
         "type": "float"
        },
        {
         "name": "Active",
         "rawType": "float64",
         "type": "float"
        }
       ],
       "conversionMethod": "pd.DataFrame",
       "ref": "dc777982-bb0c-43b7-90c3-1d6f21b7df95",
       "rows": [
        [
         "count",
         "49068.0",
         "49068.0",
         "49068.0",
         "49068.0",
         "49068.0",
         "49068.0"
        ],
        [
         "mean",
         "21.433730459770114",
         "23.52823645210728",
         "16884.90425531915",
         "884.1791595337083",
         "7915.713479253282",
         "8085.01161653216"
        ],
        [
         "std",
         "24.950319826065034",
         "70.4427397445027",
         "127300.20527228057",
         "6313.5844105965425",
         "54800.91873054017",
         "76258.9030255069"
        ],
        [
         "min",
         "-51.7963",
         "-135.0",
         "0.0",
         "0.0",
         "0.0",
         "-14.0"
        ],
        [
         "25%",
         "7.873054",
         "-15.3101",
         "4.0",
         "0.0",
         "0.0",
         "0.0"
        ],
        [
         "50%",
         "23.6345",
         "21.7453",
         "168.0",
         "2.0",
         "29.0",
         "26.0"
        ],
        [
         "75%",
         "41.20438",
         "80.77179699999998",
         "1518.25",
         "30.0",
         "666.0",
         "606.0"
        ],
        [
         "max",
         "71.7069",
         "178.065",
         "4290259.0",
         "148011.0",
         "1846641.0",
         "2816444.0"
        ]
       ],
       "shape": {
        "columns": 6,
        "rows": 8
       }
      },
      "text/html": [
       "<div>\n",
       "<style scoped>\n",
       "    .dataframe tbody tr th:only-of-type {\n",
       "        vertical-align: middle;\n",
       "    }\n",
       "\n",
       "    .dataframe tbody tr th {\n",
       "        vertical-align: top;\n",
       "    }\n",
       "\n",
       "    .dataframe thead th {\n",
       "        text-align: right;\n",
       "    }\n",
       "</style>\n",
       "<table border=\"1\" class=\"dataframe\">\n",
       "  <thead>\n",
       "    <tr style=\"text-align: right;\">\n",
       "      <th></th>\n",
       "      <th>Lat</th>\n",
       "      <th>Long</th>\n",
       "      <th>Confirmed</th>\n",
       "      <th>Deaths</th>\n",
       "      <th>Recovered</th>\n",
       "      <th>Active</th>\n",
       "    </tr>\n",
       "  </thead>\n",
       "  <tbody>\n",
       "    <tr>\n",
       "      <th>count</th>\n",
       "      <td>49068.000000</td>\n",
       "      <td>49068.000000</td>\n",
       "      <td>4.906800e+04</td>\n",
       "      <td>49068.000000</td>\n",
       "      <td>4.906800e+04</td>\n",
       "      <td>4.906800e+04</td>\n",
       "    </tr>\n",
       "    <tr>\n",
       "      <th>mean</th>\n",
       "      <td>21.433730</td>\n",
       "      <td>23.528236</td>\n",
       "      <td>1.688490e+04</td>\n",
       "      <td>884.179160</td>\n",
       "      <td>7.915713e+03</td>\n",
       "      <td>8.085012e+03</td>\n",
       "    </tr>\n",
       "    <tr>\n",
       "      <th>std</th>\n",
       "      <td>24.950320</td>\n",
       "      <td>70.442740</td>\n",
       "      <td>1.273002e+05</td>\n",
       "      <td>6313.584411</td>\n",
       "      <td>5.480092e+04</td>\n",
       "      <td>7.625890e+04</td>\n",
       "    </tr>\n",
       "    <tr>\n",
       "      <th>min</th>\n",
       "      <td>-51.796300</td>\n",
       "      <td>-135.000000</td>\n",
       "      <td>0.000000e+00</td>\n",
       "      <td>0.000000</td>\n",
       "      <td>0.000000e+00</td>\n",
       "      <td>-1.400000e+01</td>\n",
       "    </tr>\n",
       "    <tr>\n",
       "      <th>25%</th>\n",
       "      <td>7.873054</td>\n",
       "      <td>-15.310100</td>\n",
       "      <td>4.000000e+00</td>\n",
       "      <td>0.000000</td>\n",
       "      <td>0.000000e+00</td>\n",
       "      <td>0.000000e+00</td>\n",
       "    </tr>\n",
       "    <tr>\n",
       "      <th>50%</th>\n",
       "      <td>23.634500</td>\n",
       "      <td>21.745300</td>\n",
       "      <td>1.680000e+02</td>\n",
       "      <td>2.000000</td>\n",
       "      <td>2.900000e+01</td>\n",
       "      <td>2.600000e+01</td>\n",
       "    </tr>\n",
       "    <tr>\n",
       "      <th>75%</th>\n",
       "      <td>41.204380</td>\n",
       "      <td>80.771797</td>\n",
       "      <td>1.518250e+03</td>\n",
       "      <td>30.000000</td>\n",
       "      <td>6.660000e+02</td>\n",
       "      <td>6.060000e+02</td>\n",
       "    </tr>\n",
       "    <tr>\n",
       "      <th>max</th>\n",
       "      <td>71.706900</td>\n",
       "      <td>178.065000</td>\n",
       "      <td>4.290259e+06</td>\n",
       "      <td>148011.000000</td>\n",
       "      <td>1.846641e+06</td>\n",
       "      <td>2.816444e+06</td>\n",
       "    </tr>\n",
       "  </tbody>\n",
       "</table>\n",
       "</div>"
      ],
      "text/plain": [
       "                Lat          Long     Confirmed         Deaths     Recovered  \\\n",
       "count  49068.000000  49068.000000  4.906800e+04   49068.000000  4.906800e+04   \n",
       "mean      21.433730     23.528236  1.688490e+04     884.179160  7.915713e+03   \n",
       "std       24.950320     70.442740  1.273002e+05    6313.584411  5.480092e+04   \n",
       "min      -51.796300   -135.000000  0.000000e+00       0.000000  0.000000e+00   \n",
       "25%        7.873054    -15.310100  4.000000e+00       0.000000  0.000000e+00   \n",
       "50%       23.634500     21.745300  1.680000e+02       2.000000  2.900000e+01   \n",
       "75%       41.204380     80.771797  1.518250e+03      30.000000  6.660000e+02   \n",
       "max       71.706900    178.065000  4.290259e+06  148011.000000  1.846641e+06   \n",
       "\n",
       "             Active  \n",
       "count  4.906800e+04  \n",
       "mean   8.085012e+03  \n",
       "std    7.625890e+04  \n",
       "min   -1.400000e+01  \n",
       "25%    0.000000e+00  \n",
       "50%    2.600000e+01  \n",
       "75%    6.060000e+02  \n",
       "max    2.816444e+06  "
      ]
     },
     "execution_count": 31,
     "metadata": {},
     "output_type": "execute_result"
    }
   ],
   "source": [
    "df.describe()"
   ]
  },
  {
   "cell_type": "code",
   "execution_count": 13,
   "metadata": {},
   "outputs": [
    {
     "data": {
      "application/vnd.microsoft.datawrangler.viewer.v0+json": {
       "columns": [
        {
         "name": "index",
         "rawType": "int64",
         "type": "integer"
        },
        {
         "name": "Province/State",
         "rawType": "object",
         "type": "unknown"
        },
        {
         "name": "Country/Region",
         "rawType": "object",
         "type": "string"
        },
        {
         "name": "Lat",
         "rawType": "float64",
         "type": "float"
        },
        {
         "name": "Long",
         "rawType": "float64",
         "type": "float"
        },
        {
         "name": "Date",
         "rawType": "object",
         "type": "string"
        },
        {
         "name": "Confirmed",
         "rawType": "int64",
         "type": "integer"
        },
        {
         "name": "Deaths",
         "rawType": "int64",
         "type": "integer"
        },
        {
         "name": "Recovered",
         "rawType": "int64",
         "type": "integer"
        },
        {
         "name": "Active",
         "rawType": "int64",
         "type": "integer"
        },
        {
         "name": "WHO Region",
         "rawType": "object",
         "type": "string"
        }
       ],
       "conversionMethod": "pd.DataFrame",
       "ref": "74ddb26a-fb33-4fab-96b4-2546af977f3c",
       "rows": [
        [
         "0",
         null,
         "Afghanistan",
         "33.93911",
         "67.709953",
         "2020-01-22",
         "0",
         "0",
         "0",
         "0",
         "Eastern Mediterranean"
        ],
        [
         "1",
         null,
         "Albania",
         "41.1533",
         "20.1683",
         "2020-01-22",
         "0",
         "0",
         "0",
         "0",
         "Europe"
        ],
        [
         "2",
         null,
         "Algeria",
         "28.0339",
         "1.6596",
         "2020-01-22",
         "0",
         "0",
         "0",
         "0",
         "Africa"
        ],
        [
         "3",
         null,
         "Andorra",
         "42.5063",
         "1.5218",
         "2020-01-22",
         "0",
         "0",
         "0",
         "0",
         "Europe"
        ],
        [
         "4",
         null,
         "Angola",
         "-11.2027",
         "17.8739",
         "2020-01-22",
         "0",
         "0",
         "0",
         "0",
         "Africa"
        ]
       ],
       "shape": {
        "columns": 10,
        "rows": 5
       }
      },
      "text/html": [
       "<div>\n",
       "<style scoped>\n",
       "    .dataframe tbody tr th:only-of-type {\n",
       "        vertical-align: middle;\n",
       "    }\n",
       "\n",
       "    .dataframe tbody tr th {\n",
       "        vertical-align: top;\n",
       "    }\n",
       "\n",
       "    .dataframe thead th {\n",
       "        text-align: right;\n",
       "    }\n",
       "</style>\n",
       "<table border=\"1\" class=\"dataframe\">\n",
       "  <thead>\n",
       "    <tr style=\"text-align: right;\">\n",
       "      <th></th>\n",
       "      <th>Province/State</th>\n",
       "      <th>Country/Region</th>\n",
       "      <th>Lat</th>\n",
       "      <th>Long</th>\n",
       "      <th>Date</th>\n",
       "      <th>Confirmed</th>\n",
       "      <th>Deaths</th>\n",
       "      <th>Recovered</th>\n",
       "      <th>Active</th>\n",
       "      <th>WHO Region</th>\n",
       "    </tr>\n",
       "  </thead>\n",
       "  <tbody>\n",
       "    <tr>\n",
       "      <th>0</th>\n",
       "      <td>NaN</td>\n",
       "      <td>Afghanistan</td>\n",
       "      <td>33.93911</td>\n",
       "      <td>67.709953</td>\n",
       "      <td>2020-01-22</td>\n",
       "      <td>0</td>\n",
       "      <td>0</td>\n",
       "      <td>0</td>\n",
       "      <td>0</td>\n",
       "      <td>Eastern Mediterranean</td>\n",
       "    </tr>\n",
       "    <tr>\n",
       "      <th>1</th>\n",
       "      <td>NaN</td>\n",
       "      <td>Albania</td>\n",
       "      <td>41.15330</td>\n",
       "      <td>20.168300</td>\n",
       "      <td>2020-01-22</td>\n",
       "      <td>0</td>\n",
       "      <td>0</td>\n",
       "      <td>0</td>\n",
       "      <td>0</td>\n",
       "      <td>Europe</td>\n",
       "    </tr>\n",
       "    <tr>\n",
       "      <th>2</th>\n",
       "      <td>NaN</td>\n",
       "      <td>Algeria</td>\n",
       "      <td>28.03390</td>\n",
       "      <td>1.659600</td>\n",
       "      <td>2020-01-22</td>\n",
       "      <td>0</td>\n",
       "      <td>0</td>\n",
       "      <td>0</td>\n",
       "      <td>0</td>\n",
       "      <td>Africa</td>\n",
       "    </tr>\n",
       "    <tr>\n",
       "      <th>3</th>\n",
       "      <td>NaN</td>\n",
       "      <td>Andorra</td>\n",
       "      <td>42.50630</td>\n",
       "      <td>1.521800</td>\n",
       "      <td>2020-01-22</td>\n",
       "      <td>0</td>\n",
       "      <td>0</td>\n",
       "      <td>0</td>\n",
       "      <td>0</td>\n",
       "      <td>Europe</td>\n",
       "    </tr>\n",
       "    <tr>\n",
       "      <th>4</th>\n",
       "      <td>NaN</td>\n",
       "      <td>Angola</td>\n",
       "      <td>-11.20270</td>\n",
       "      <td>17.873900</td>\n",
       "      <td>2020-01-22</td>\n",
       "      <td>0</td>\n",
       "      <td>0</td>\n",
       "      <td>0</td>\n",
       "      <td>0</td>\n",
       "      <td>Africa</td>\n",
       "    </tr>\n",
       "  </tbody>\n",
       "</table>\n",
       "</div>"
      ],
      "text/plain": [
       "  Province/State Country/Region       Lat       Long        Date  Confirmed  \\\n",
       "0            NaN    Afghanistan  33.93911  67.709953  2020-01-22          0   \n",
       "1            NaN        Albania  41.15330  20.168300  2020-01-22          0   \n",
       "2            NaN        Algeria  28.03390   1.659600  2020-01-22          0   \n",
       "3            NaN        Andorra  42.50630   1.521800  2020-01-22          0   \n",
       "4            NaN         Angola -11.20270  17.873900  2020-01-22          0   \n",
       "\n",
       "   Deaths  Recovered  Active             WHO Region  \n",
       "0       0          0       0  Eastern Mediterranean  \n",
       "1       0          0       0                 Europe  \n",
       "2       0          0       0                 Africa  \n",
       "3       0          0       0                 Europe  \n",
       "4       0          0       0                 Africa  "
      ]
     },
     "execution_count": 13,
     "metadata": {},
     "output_type": "execute_result"
    }
   ],
   "source": [
    "df.head() # To view/display the first 5 records of the data"
   ]
  },
  {
   "cell_type": "code",
   "execution_count": 24,
   "metadata": {},
   "outputs": [
    {
     "data": {
      "application/vnd.microsoft.datawrangler.viewer.v0+json": {
       "columns": [
        {
         "name": "index",
         "rawType": "object",
         "type": "string"
        },
        {
         "name": "Lat",
         "rawType": "float64",
         "type": "float"
        },
        {
         "name": "Long",
         "rawType": "float64",
         "type": "float"
        },
        {
         "name": "Confirmed",
         "rawType": "float64",
         "type": "float"
        },
        {
         "name": "Deaths",
         "rawType": "float64",
         "type": "float"
        },
        {
         "name": "Recovered",
         "rawType": "float64",
         "type": "float"
        },
        {
         "name": "Active",
         "rawType": "float64",
         "type": "float"
        }
       ],
       "conversionMethod": "pd.DataFrame",
       "ref": "323483f1-ae2c-44ca-adeb-c85803642011",
       "rows": [
        [
         "count",
         "49068.0",
         "49068.0",
         "49068.0",
         "49068.0",
         "49068.0",
         "49068.0"
        ],
        [
         "mean",
         "21.433730459770114",
         "23.52823645210728",
         "16884.90425531915",
         "884.1791595337083",
         "7915.713479253282",
         "8085.01161653216"
        ],
        [
         "std",
         "24.950319826065034",
         "70.4427397445027",
         "127300.20527228057",
         "6313.5844105965425",
         "54800.91873054017",
         "76258.9030255069"
        ],
        [
         "min",
         "-51.7963",
         "-135.0",
         "0.0",
         "0.0",
         "0.0",
         "-14.0"
        ],
        [
         "25%",
         "7.873054",
         "-15.3101",
         "4.0",
         "0.0",
         "0.0",
         "0.0"
        ],
        [
         "50%",
         "23.6345",
         "21.7453",
         "168.0",
         "2.0",
         "29.0",
         "26.0"
        ],
        [
         "75%",
         "41.20438",
         "80.77179699999998",
         "1518.25",
         "30.0",
         "666.0",
         "606.0"
        ],
        [
         "max",
         "71.7069",
         "178.065",
         "4290259.0",
         "148011.0",
         "1846641.0",
         "2816444.0"
        ]
       ],
       "shape": {
        "columns": 6,
        "rows": 8
       }
      },
      "text/html": [
       "<div>\n",
       "<style scoped>\n",
       "    .dataframe tbody tr th:only-of-type {\n",
       "        vertical-align: middle;\n",
       "    }\n",
       "\n",
       "    .dataframe tbody tr th {\n",
       "        vertical-align: top;\n",
       "    }\n",
       "\n",
       "    .dataframe thead th {\n",
       "        text-align: right;\n",
       "    }\n",
       "</style>\n",
       "<table border=\"1\" class=\"dataframe\">\n",
       "  <thead>\n",
       "    <tr style=\"text-align: right;\">\n",
       "      <th></th>\n",
       "      <th>Lat</th>\n",
       "      <th>Long</th>\n",
       "      <th>Confirmed</th>\n",
       "      <th>Deaths</th>\n",
       "      <th>Recovered</th>\n",
       "      <th>Active</th>\n",
       "    </tr>\n",
       "  </thead>\n",
       "  <tbody>\n",
       "    <tr>\n",
       "      <th>count</th>\n",
       "      <td>49068.000000</td>\n",
       "      <td>49068.000000</td>\n",
       "      <td>4.906800e+04</td>\n",
       "      <td>49068.000000</td>\n",
       "      <td>4.906800e+04</td>\n",
       "      <td>4.906800e+04</td>\n",
       "    </tr>\n",
       "    <tr>\n",
       "      <th>mean</th>\n",
       "      <td>21.433730</td>\n",
       "      <td>23.528236</td>\n",
       "      <td>1.688490e+04</td>\n",
       "      <td>884.179160</td>\n",
       "      <td>7.915713e+03</td>\n",
       "      <td>8.085012e+03</td>\n",
       "    </tr>\n",
       "    <tr>\n",
       "      <th>std</th>\n",
       "      <td>24.950320</td>\n",
       "      <td>70.442740</td>\n",
       "      <td>1.273002e+05</td>\n",
       "      <td>6313.584411</td>\n",
       "      <td>5.480092e+04</td>\n",
       "      <td>7.625890e+04</td>\n",
       "    </tr>\n",
       "    <tr>\n",
       "      <th>min</th>\n",
       "      <td>-51.796300</td>\n",
       "      <td>-135.000000</td>\n",
       "      <td>0.000000e+00</td>\n",
       "      <td>0.000000</td>\n",
       "      <td>0.000000e+00</td>\n",
       "      <td>-1.400000e+01</td>\n",
       "    </tr>\n",
       "    <tr>\n",
       "      <th>25%</th>\n",
       "      <td>7.873054</td>\n",
       "      <td>-15.310100</td>\n",
       "      <td>4.000000e+00</td>\n",
       "      <td>0.000000</td>\n",
       "      <td>0.000000e+00</td>\n",
       "      <td>0.000000e+00</td>\n",
       "    </tr>\n",
       "    <tr>\n",
       "      <th>50%</th>\n",
       "      <td>23.634500</td>\n",
       "      <td>21.745300</td>\n",
       "      <td>1.680000e+02</td>\n",
       "      <td>2.000000</td>\n",
       "      <td>2.900000e+01</td>\n",
       "      <td>2.600000e+01</td>\n",
       "    </tr>\n",
       "    <tr>\n",
       "      <th>75%</th>\n",
       "      <td>41.204380</td>\n",
       "      <td>80.771797</td>\n",
       "      <td>1.518250e+03</td>\n",
       "      <td>30.000000</td>\n",
       "      <td>6.660000e+02</td>\n",
       "      <td>6.060000e+02</td>\n",
       "    </tr>\n",
       "    <tr>\n",
       "      <th>max</th>\n",
       "      <td>71.706900</td>\n",
       "      <td>178.065000</td>\n",
       "      <td>4.290259e+06</td>\n",
       "      <td>148011.000000</td>\n",
       "      <td>1.846641e+06</td>\n",
       "      <td>2.816444e+06</td>\n",
       "    </tr>\n",
       "  </tbody>\n",
       "</table>\n",
       "</div>"
      ],
      "text/plain": [
       "                Lat          Long     Confirmed         Deaths     Recovered  \\\n",
       "count  49068.000000  49068.000000  4.906800e+04   49068.000000  4.906800e+04   \n",
       "mean      21.433730     23.528236  1.688490e+04     884.179160  7.915713e+03   \n",
       "std       24.950320     70.442740  1.273002e+05    6313.584411  5.480092e+04   \n",
       "min      -51.796300   -135.000000  0.000000e+00       0.000000  0.000000e+00   \n",
       "25%        7.873054    -15.310100  4.000000e+00       0.000000  0.000000e+00   \n",
       "50%       23.634500     21.745300  1.680000e+02       2.000000  2.900000e+01   \n",
       "75%       41.204380     80.771797  1.518250e+03      30.000000  6.660000e+02   \n",
       "max       71.706900    178.065000  4.290259e+06  148011.000000  1.846641e+06   \n",
       "\n",
       "             Active  \n",
       "count  4.906800e+04  \n",
       "mean   8.085012e+03  \n",
       "std    7.625890e+04  \n",
       "min   -1.400000e+01  \n",
       "25%    0.000000e+00  \n",
       "50%    2.600000e+01  \n",
       "75%    6.060000e+02  \n",
       "max    2.816444e+06  "
      ]
     },
     "execution_count": 24,
     "metadata": {},
     "output_type": "execute_result"
    }
   ],
   "source": [
    "df.describe()"
   ]
  },
  {
   "cell_type": "markdown",
   "metadata": {},
   "source": [
    "## Data Preparation"
   ]
  },
  {
   "cell_type": "code",
   "execution_count": null,
   "metadata": {},
   "outputs": [
    {
     "data": {
      "text/plain": [
       "Province/State    34404\n",
       "Country/Region        0\n",
       "Lat                   0\n",
       "Long                  0\n",
       "Date                  0\n",
       "Confirmed             0\n",
       "Deaths                0\n",
       "Recovered             0\n",
       "Active                0\n",
       "WHO Region            0\n",
       "dtype: int64"
      ]
     },
     "execution_count": 15,
     "metadata": {},
     "output_type": "execute_result"
    }
   ],
   "source": [
    "df.isna().sum() # View the number of missing values"
   ]
  },
  {
   "cell_type": "markdown",
   "metadata": {},
   "source": [
    "### Documenting current state"
   ]
  },
  {
   "cell_type": "markdown",
   "metadata": {},
   "source": [
    "Province/State contains many nulls 34404 out 49068, therefore we can drop it or dive deeper to understand the existing non-missing values."
   ]
  },
  {
   "cell_type": "code",
   "execution_count": 22,
   "metadata": {},
   "outputs": [],
   "source": [
    "df.drop('Province/State',axis=1,inplace=True)"
   ]
  },
  {
   "cell_type": "code",
   "execution_count": 23,
   "metadata": {},
   "outputs": [
    {
     "data": {
      "application/vnd.microsoft.datawrangler.viewer.v0+json": {
       "columns": [
        {
         "name": "index",
         "rawType": "int64",
         "type": "integer"
        },
        {
         "name": "Country/Region",
         "rawType": "object",
         "type": "string"
        },
        {
         "name": "Lat",
         "rawType": "float64",
         "type": "float"
        },
        {
         "name": "Long",
         "rawType": "float64",
         "type": "float"
        },
        {
         "name": "Date",
         "rawType": "object",
         "type": "string"
        },
        {
         "name": "Confirmed",
         "rawType": "int64",
         "type": "integer"
        },
        {
         "name": "Deaths",
         "rawType": "int64",
         "type": "integer"
        },
        {
         "name": "Recovered",
         "rawType": "int64",
         "type": "integer"
        },
        {
         "name": "Active",
         "rawType": "int64",
         "type": "integer"
        },
        {
         "name": "WHO Region",
         "rawType": "object",
         "type": "string"
        }
       ],
       "conversionMethod": "pd.DataFrame",
       "ref": "6fb7adf0-9df2-4cbe-a85e-e8e2e7bdc8a3",
       "rows": [
        [
         "0",
         "Afghanistan",
         "33.93911",
         "67.709953",
         "2020-01-22",
         "0",
         "0",
         "0",
         "0",
         "Eastern Mediterranean"
        ],
        [
         "1",
         "Albania",
         "41.1533",
         "20.1683",
         "2020-01-22",
         "0",
         "0",
         "0",
         "0",
         "Europe"
        ],
        [
         "2",
         "Algeria",
         "28.0339",
         "1.6596",
         "2020-01-22",
         "0",
         "0",
         "0",
         "0",
         "Africa"
        ],
        [
         "3",
         "Andorra",
         "42.5063",
         "1.5218",
         "2020-01-22",
         "0",
         "0",
         "0",
         "0",
         "Europe"
        ],
        [
         "4",
         "Angola",
         "-11.2027",
         "17.8739",
         "2020-01-22",
         "0",
         "0",
         "0",
         "0",
         "Africa"
        ],
        [
         "5",
         "Antigua and Barbuda",
         "17.0608",
         "-61.7964",
         "2020-01-22",
         "0",
         "0",
         "0",
         "0",
         "Americas"
        ],
        [
         "6",
         "Argentina",
         "-38.4161",
         "-63.6167",
         "2020-01-22",
         "0",
         "0",
         "0",
         "0",
         "Americas"
        ],
        [
         "7",
         "Armenia",
         "40.0691",
         "45.0382",
         "2020-01-22",
         "0",
         "0",
         "0",
         "0",
         "Europe"
        ],
        [
         "8",
         "Australia",
         "-35.4735",
         "149.0124",
         "2020-01-22",
         "0",
         "0",
         "0",
         "0",
         "Western Pacific"
        ],
        [
         "9",
         "Australia",
         "-33.8688",
         "151.2093",
         "2020-01-22",
         "0",
         "0",
         "0",
         "0",
         "Western Pacific"
        ],
        [
         "10",
         "Australia",
         "-12.4634",
         "130.8456",
         "2020-01-22",
         "0",
         "0",
         "0",
         "0",
         "Western Pacific"
        ],
        [
         "11",
         "Australia",
         "-27.4698",
         "153.0251",
         "2020-01-22",
         "0",
         "0",
         "0",
         "0",
         "Western Pacific"
        ],
        [
         "12",
         "Australia",
         "-34.9285",
         "138.6007",
         "2020-01-22",
         "0",
         "0",
         "0",
         "0",
         "Western Pacific"
        ],
        [
         "13",
         "Australia",
         "-42.8821",
         "147.3272",
         "2020-01-22",
         "0",
         "0",
         "0",
         "0",
         "Western Pacific"
        ],
        [
         "14",
         "Australia",
         "-37.8136",
         "144.9631",
         "2020-01-22",
         "0",
         "0",
         "0",
         "0",
         "Western Pacific"
        ],
        [
         "15",
         "Australia",
         "-31.9505",
         "115.8605",
         "2020-01-22",
         "0",
         "0",
         "0",
         "0",
         "Western Pacific"
        ],
        [
         "16",
         "Austria",
         "47.5162",
         "14.5501",
         "2020-01-22",
         "0",
         "0",
         "0",
         "0",
         "Europe"
        ],
        [
         "17",
         "Azerbaijan",
         "40.1431",
         "47.5769",
         "2020-01-22",
         "0",
         "0",
         "0",
         "0",
         "Europe"
        ],
        [
         "18",
         "Bahamas",
         "25.025885",
         "-78.035889",
         "2020-01-22",
         "0",
         "0",
         "0",
         "0",
         "Americas"
        ],
        [
         "19",
         "Bahrain",
         "26.0275",
         "50.55",
         "2020-01-22",
         "0",
         "0",
         "0",
         "0",
         "Eastern Mediterranean"
        ],
        [
         "20",
         "Bangladesh",
         "23.685",
         "90.3563",
         "2020-01-22",
         "0",
         "0",
         "0",
         "0",
         "South-East Asia"
        ],
        [
         "21",
         "Barbados",
         "13.1939",
         "-59.5432",
         "2020-01-22",
         "0",
         "0",
         "0",
         "0",
         "Americas"
        ],
        [
         "22",
         "Belarus",
         "53.7098",
         "27.9534",
         "2020-01-22",
         "0",
         "0",
         "0",
         "0",
         "Europe"
        ],
        [
         "23",
         "Belgium",
         "50.8333",
         "4.469936",
         "2020-01-22",
         "0",
         "0",
         "0",
         "0",
         "Europe"
        ],
        [
         "24",
         "Benin",
         "9.3077",
         "2.3158",
         "2020-01-22",
         "0",
         "0",
         "0",
         "0",
         "Africa"
        ],
        [
         "25",
         "Bhutan",
         "27.5142",
         "90.4336",
         "2020-01-22",
         "0",
         "0",
         "0",
         "0",
         "South-East Asia"
        ],
        [
         "26",
         "Bolivia",
         "-16.2902",
         "-63.5887",
         "2020-01-22",
         "0",
         "0",
         "0",
         "0",
         "Americas"
        ],
        [
         "27",
         "Bosnia and Herzegovina",
         "43.9159",
         "17.6791",
         "2020-01-22",
         "0",
         "0",
         "0",
         "0",
         "Europe"
        ],
        [
         "28",
         "Brazil",
         "-14.235",
         "-51.9253",
         "2020-01-22",
         "0",
         "0",
         "0",
         "0",
         "Americas"
        ],
        [
         "29",
         "Brunei",
         "4.5353",
         "114.7277",
         "2020-01-22",
         "0",
         "0",
         "0",
         "0",
         "Western Pacific"
        ],
        [
         "30",
         "Bulgaria",
         "42.7339",
         "25.4858",
         "2020-01-22",
         "0",
         "0",
         "0",
         "0",
         "Europe"
        ],
        [
         "31",
         "Burkina Faso",
         "12.2383",
         "-1.5616",
         "2020-01-22",
         "0",
         "0",
         "0",
         "0",
         "Africa"
        ],
        [
         "32",
         "Cabo Verde",
         "16.5388",
         "-23.0418",
         "2020-01-22",
         "0",
         "0",
         "0",
         "0",
         "Africa"
        ],
        [
         "33",
         "Cambodia",
         "11.55",
         "104.9167",
         "2020-01-22",
         "0",
         "0",
         "0",
         "0",
         "Western Pacific"
        ],
        [
         "34",
         "Cameroon",
         "3.848",
         "11.5021",
         "2020-01-22",
         "0",
         "0",
         "0",
         "0",
         "Africa"
        ],
        [
         "35",
         "Canada",
         "53.9333",
         "-116.5765",
         "2020-01-22",
         "0",
         "0",
         "0",
         "0",
         "Americas"
        ],
        [
         "36",
         "Canada",
         "53.7267",
         "-127.6476",
         "2020-01-22",
         "0",
         "0",
         "0",
         "0",
         "Americas"
        ],
        [
         "37",
         "Canada",
         "53.7609",
         "-98.8139",
         "2020-01-22",
         "0",
         "0",
         "0",
         "0",
         "Americas"
        ],
        [
         "38",
         "Canada",
         "46.5653",
         "-66.4619",
         "2020-01-22",
         "0",
         "0",
         "0",
         "0",
         "Americas"
        ],
        [
         "39",
         "Canada",
         "53.1355",
         "-57.6604",
         "2020-01-22",
         "0",
         "0",
         "0",
         "0",
         "Americas"
        ],
        [
         "40",
         "Canada",
         "44.682",
         "-63.7443",
         "2020-01-22",
         "0",
         "0",
         "0",
         "0",
         "Americas"
        ],
        [
         "41",
         "Canada",
         "51.2538",
         "-85.3232",
         "2020-01-22",
         "0",
         "0",
         "0",
         "0",
         "Americas"
        ],
        [
         "42",
         "Canada",
         "46.5107",
         "-63.4168",
         "2020-01-22",
         "0",
         "0",
         "0",
         "0",
         "Americas"
        ],
        [
         "43",
         "Canada",
         "52.9399",
         "-73.5491",
         "2020-01-22",
         "0",
         "0",
         "0",
         "0",
         "Americas"
        ],
        [
         "44",
         "Canada",
         "52.9399",
         "-106.4509",
         "2020-01-22",
         "0",
         "0",
         "0",
         "0",
         "Americas"
        ],
        [
         "45",
         "Central African Republic",
         "6.6111",
         "20.9394",
         "2020-01-22",
         "0",
         "0",
         "0",
         "0",
         "Africa"
        ],
        [
         "46",
         "Chad",
         "15.4542",
         "18.7322",
         "2020-01-22",
         "0",
         "0",
         "0",
         "0",
         "Africa"
        ],
        [
         "47",
         "Chile",
         "-35.6751",
         "-71.543",
         "2020-01-22",
         "0",
         "0",
         "0",
         "0",
         "Americas"
        ],
        [
         "48",
         "China",
         "31.8257",
         "117.2264",
         "2020-01-22",
         "1",
         "0",
         "0",
         "1",
         "Western Pacific"
        ],
        [
         "49",
         "China",
         "40.1824",
         "116.4142",
         "2020-01-22",
         "14",
         "0",
         "0",
         "14",
         "Western Pacific"
        ]
       ],
       "shape": {
        "columns": 9,
        "rows": 49068
       }
      },
      "text/html": [
       "<div>\n",
       "<style scoped>\n",
       "    .dataframe tbody tr th:only-of-type {\n",
       "        vertical-align: middle;\n",
       "    }\n",
       "\n",
       "    .dataframe tbody tr th {\n",
       "        vertical-align: top;\n",
       "    }\n",
       "\n",
       "    .dataframe thead th {\n",
       "        text-align: right;\n",
       "    }\n",
       "</style>\n",
       "<table border=\"1\" class=\"dataframe\">\n",
       "  <thead>\n",
       "    <tr style=\"text-align: right;\">\n",
       "      <th></th>\n",
       "      <th>Country/Region</th>\n",
       "      <th>Lat</th>\n",
       "      <th>Long</th>\n",
       "      <th>Date</th>\n",
       "      <th>Confirmed</th>\n",
       "      <th>Deaths</th>\n",
       "      <th>Recovered</th>\n",
       "      <th>Active</th>\n",
       "      <th>WHO Region</th>\n",
       "    </tr>\n",
       "  </thead>\n",
       "  <tbody>\n",
       "    <tr>\n",
       "      <th>0</th>\n",
       "      <td>Afghanistan</td>\n",
       "      <td>33.939110</td>\n",
       "      <td>67.709953</td>\n",
       "      <td>2020-01-22</td>\n",
       "      <td>0</td>\n",
       "      <td>0</td>\n",
       "      <td>0</td>\n",
       "      <td>0</td>\n",
       "      <td>Eastern Mediterranean</td>\n",
       "    </tr>\n",
       "    <tr>\n",
       "      <th>1</th>\n",
       "      <td>Albania</td>\n",
       "      <td>41.153300</td>\n",
       "      <td>20.168300</td>\n",
       "      <td>2020-01-22</td>\n",
       "      <td>0</td>\n",
       "      <td>0</td>\n",
       "      <td>0</td>\n",
       "      <td>0</td>\n",
       "      <td>Europe</td>\n",
       "    </tr>\n",
       "    <tr>\n",
       "      <th>2</th>\n",
       "      <td>Algeria</td>\n",
       "      <td>28.033900</td>\n",
       "      <td>1.659600</td>\n",
       "      <td>2020-01-22</td>\n",
       "      <td>0</td>\n",
       "      <td>0</td>\n",
       "      <td>0</td>\n",
       "      <td>0</td>\n",
       "      <td>Africa</td>\n",
       "    </tr>\n",
       "    <tr>\n",
       "      <th>3</th>\n",
       "      <td>Andorra</td>\n",
       "      <td>42.506300</td>\n",
       "      <td>1.521800</td>\n",
       "      <td>2020-01-22</td>\n",
       "      <td>0</td>\n",
       "      <td>0</td>\n",
       "      <td>0</td>\n",
       "      <td>0</td>\n",
       "      <td>Europe</td>\n",
       "    </tr>\n",
       "    <tr>\n",
       "      <th>4</th>\n",
       "      <td>Angola</td>\n",
       "      <td>-11.202700</td>\n",
       "      <td>17.873900</td>\n",
       "      <td>2020-01-22</td>\n",
       "      <td>0</td>\n",
       "      <td>0</td>\n",
       "      <td>0</td>\n",
       "      <td>0</td>\n",
       "      <td>Africa</td>\n",
       "    </tr>\n",
       "    <tr>\n",
       "      <th>...</th>\n",
       "      <td>...</td>\n",
       "      <td>...</td>\n",
       "      <td>...</td>\n",
       "      <td>...</td>\n",
       "      <td>...</td>\n",
       "      <td>...</td>\n",
       "      <td>...</td>\n",
       "      <td>...</td>\n",
       "      <td>...</td>\n",
       "    </tr>\n",
       "    <tr>\n",
       "      <th>49063</th>\n",
       "      <td>Sao Tome and Principe</td>\n",
       "      <td>0.186400</td>\n",
       "      <td>6.613100</td>\n",
       "      <td>2020-07-27</td>\n",
       "      <td>865</td>\n",
       "      <td>14</td>\n",
       "      <td>734</td>\n",
       "      <td>117</td>\n",
       "      <td>Africa</td>\n",
       "    </tr>\n",
       "    <tr>\n",
       "      <th>49064</th>\n",
       "      <td>Yemen</td>\n",
       "      <td>15.552727</td>\n",
       "      <td>48.516388</td>\n",
       "      <td>2020-07-27</td>\n",
       "      <td>1691</td>\n",
       "      <td>483</td>\n",
       "      <td>833</td>\n",
       "      <td>375</td>\n",
       "      <td>Eastern Mediterranean</td>\n",
       "    </tr>\n",
       "    <tr>\n",
       "      <th>49065</th>\n",
       "      <td>Comoros</td>\n",
       "      <td>-11.645500</td>\n",
       "      <td>43.333300</td>\n",
       "      <td>2020-07-27</td>\n",
       "      <td>354</td>\n",
       "      <td>7</td>\n",
       "      <td>328</td>\n",
       "      <td>19</td>\n",
       "      <td>Africa</td>\n",
       "    </tr>\n",
       "    <tr>\n",
       "      <th>49066</th>\n",
       "      <td>Tajikistan</td>\n",
       "      <td>38.861000</td>\n",
       "      <td>71.276100</td>\n",
       "      <td>2020-07-27</td>\n",
       "      <td>7235</td>\n",
       "      <td>60</td>\n",
       "      <td>6028</td>\n",
       "      <td>1147</td>\n",
       "      <td>Europe</td>\n",
       "    </tr>\n",
       "    <tr>\n",
       "      <th>49067</th>\n",
       "      <td>Lesotho</td>\n",
       "      <td>-29.610000</td>\n",
       "      <td>28.233600</td>\n",
       "      <td>2020-07-27</td>\n",
       "      <td>505</td>\n",
       "      <td>12</td>\n",
       "      <td>128</td>\n",
       "      <td>365</td>\n",
       "      <td>Africa</td>\n",
       "    </tr>\n",
       "  </tbody>\n",
       "</table>\n",
       "<p>49068 rows × 9 columns</p>\n",
       "</div>"
      ],
      "text/plain": [
       "              Country/Region        Lat       Long        Date  Confirmed  \\\n",
       "0                Afghanistan  33.939110  67.709953  2020-01-22          0   \n",
       "1                    Albania  41.153300  20.168300  2020-01-22          0   \n",
       "2                    Algeria  28.033900   1.659600  2020-01-22          0   \n",
       "3                    Andorra  42.506300   1.521800  2020-01-22          0   \n",
       "4                     Angola -11.202700  17.873900  2020-01-22          0   \n",
       "...                      ...        ...        ...         ...        ...   \n",
       "49063  Sao Tome and Principe   0.186400   6.613100  2020-07-27        865   \n",
       "49064                  Yemen  15.552727  48.516388  2020-07-27       1691   \n",
       "49065                Comoros -11.645500  43.333300  2020-07-27        354   \n",
       "49066             Tajikistan  38.861000  71.276100  2020-07-27       7235   \n",
       "49067                Lesotho -29.610000  28.233600  2020-07-27        505   \n",
       "\n",
       "       Deaths  Recovered  Active             WHO Region  \n",
       "0           0          0       0  Eastern Mediterranean  \n",
       "1           0          0       0                 Europe  \n",
       "2           0          0       0                 Africa  \n",
       "3           0          0       0                 Europe  \n",
       "4           0          0       0                 Africa  \n",
       "...       ...        ...     ...                    ...  \n",
       "49063      14        734     117                 Africa  \n",
       "49064     483        833     375  Eastern Mediterranean  \n",
       "49065       7        328      19                 Africa  \n",
       "49066      60       6028    1147                 Europe  \n",
       "49067      12        128     365                 Africa  \n",
       "\n",
       "[49068 rows x 9 columns]"
      ]
     },
     "execution_count": 23,
     "metadata": {},
     "output_type": "execute_result"
    }
   ],
   "source": [
    "df"
   ]
  }
 ],
 "metadata": {
  "kernelspec": {
   "display_name": "mitocluster",
   "language": "python",
   "name": "python3"
  },
  "language_info": {
   "codemirror_mode": {
    "name": "ipython",
    "version": 3
   },
   "file_extension": ".py",
   "mimetype": "text/x-python",
   "name": "python",
   "nbconvert_exporter": "python",
   "pygments_lexer": "ipython3",
   "version": "3.11.5"
  }
 },
 "nbformat": 4,
 "nbformat_minor": 2
}
